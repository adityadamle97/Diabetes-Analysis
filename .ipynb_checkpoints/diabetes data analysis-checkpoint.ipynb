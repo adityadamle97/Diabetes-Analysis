{
 "cells": [
  {
   "cell_type": "markdown",
   "id": "10496bf5",
   "metadata": {},
   "source": [
    "<h1>\n",
    "    Analysis of the Diabetes database from Kaggle\n",
    "</h1>\n",
    "<pre>\n",
    "    In this notebook, exploratory data analysis has been done on the Diabetes dataset from Kaggle.\n",
    "    This dataset provides a good ground for exploration of data visualization libraries.\n",
    "    A logistic regression model has also been built to check whether a patient is diabetic or not.\n",
    "</pre>"
   ]
  },
  {
   "cell_type": "code",
   "execution_count": 1,
   "id": "fd16d153",
   "metadata": {},
   "outputs": [],
   "source": [
    "# importing the necessary libraries\n",
    "import pandas as pd\n",
    "import numpy as np\n",
    "import seaborn as sns\n",
    "from sklearn.linear_model import LogisticRegression\n",
    "from sklearn.metrics import classification_report, confusion_matrix"
   ]
  },
  {
   "cell_type": "code",
   "execution_count": 2,
   "id": "d66de76e",
   "metadata": {},
   "outputs": [],
   "source": [
    "#importing the dataset\n",
    "diabetes = pd.read_csv('C:\\\\Users\\\\AADITYA\\\\Documents\\\\datasets\\\\Diabetes Analysis\\\\diabetes.csv')"
   ]
  },
  {
   "cell_type": "code",
   "execution_count": 3,
   "id": "e4598858",
   "metadata": {},
   "outputs": [
    {
     "data": {
      "text/html": [
       "<div>\n",
       "<style scoped>\n",
       "    .dataframe tbody tr th:only-of-type {\n",
       "        vertical-align: middle;\n",
       "    }\n",
       "\n",
       "    .dataframe tbody tr th {\n",
       "        vertical-align: top;\n",
       "    }\n",
       "\n",
       "    .dataframe thead th {\n",
       "        text-align: right;\n",
       "    }\n",
       "</style>\n",
       "<table border=\"1\" class=\"dataframe\">\n",
       "  <thead>\n",
       "    <tr style=\"text-align: right;\">\n",
       "      <th></th>\n",
       "      <th>patient_number</th>\n",
       "      <th>cholesterol</th>\n",
       "      <th>glucose</th>\n",
       "      <th>hdl_chol</th>\n",
       "      <th>chol_hdl_ratio</th>\n",
       "      <th>age</th>\n",
       "      <th>gender</th>\n",
       "      <th>height</th>\n",
       "      <th>weight</th>\n",
       "      <th>bmi</th>\n",
       "      <th>systolic_bp</th>\n",
       "      <th>diastolic_bp</th>\n",
       "      <th>waist</th>\n",
       "      <th>hip</th>\n",
       "      <th>waist_hip_ratio</th>\n",
       "      <th>diabetes</th>\n",
       "    </tr>\n",
       "  </thead>\n",
       "  <tbody>\n",
       "    <tr>\n",
       "      <th>0</th>\n",
       "      <td>1</td>\n",
       "      <td>193</td>\n",
       "      <td>77</td>\n",
       "      <td>49</td>\n",
       "      <td>3,9</td>\n",
       "      <td>19</td>\n",
       "      <td>female</td>\n",
       "      <td>61</td>\n",
       "      <td>119</td>\n",
       "      <td>22,5</td>\n",
       "      <td>118</td>\n",
       "      <td>70</td>\n",
       "      <td>32</td>\n",
       "      <td>38</td>\n",
       "      <td>0,84</td>\n",
       "      <td>No diabetes</td>\n",
       "    </tr>\n",
       "    <tr>\n",
       "      <th>1</th>\n",
       "      <td>2</td>\n",
       "      <td>146</td>\n",
       "      <td>79</td>\n",
       "      <td>41</td>\n",
       "      <td>3,6</td>\n",
       "      <td>19</td>\n",
       "      <td>female</td>\n",
       "      <td>60</td>\n",
       "      <td>135</td>\n",
       "      <td>26,4</td>\n",
       "      <td>108</td>\n",
       "      <td>58</td>\n",
       "      <td>33</td>\n",
       "      <td>40</td>\n",
       "      <td>0,83</td>\n",
       "      <td>No diabetes</td>\n",
       "    </tr>\n",
       "    <tr>\n",
       "      <th>2</th>\n",
       "      <td>3</td>\n",
       "      <td>217</td>\n",
       "      <td>75</td>\n",
       "      <td>54</td>\n",
       "      <td>4</td>\n",
       "      <td>20</td>\n",
       "      <td>female</td>\n",
       "      <td>67</td>\n",
       "      <td>187</td>\n",
       "      <td>29,3</td>\n",
       "      <td>110</td>\n",
       "      <td>72</td>\n",
       "      <td>40</td>\n",
       "      <td>45</td>\n",
       "      <td>0,89</td>\n",
       "      <td>No diabetes</td>\n",
       "    </tr>\n",
       "    <tr>\n",
       "      <th>3</th>\n",
       "      <td>4</td>\n",
       "      <td>226</td>\n",
       "      <td>97</td>\n",
       "      <td>70</td>\n",
       "      <td>3,2</td>\n",
       "      <td>20</td>\n",
       "      <td>female</td>\n",
       "      <td>64</td>\n",
       "      <td>114</td>\n",
       "      <td>19,6</td>\n",
       "      <td>122</td>\n",
       "      <td>64</td>\n",
       "      <td>31</td>\n",
       "      <td>39</td>\n",
       "      <td>0,79</td>\n",
       "      <td>No diabetes</td>\n",
       "    </tr>\n",
       "    <tr>\n",
       "      <th>4</th>\n",
       "      <td>5</td>\n",
       "      <td>164</td>\n",
       "      <td>91</td>\n",
       "      <td>67</td>\n",
       "      <td>2,4</td>\n",
       "      <td>20</td>\n",
       "      <td>female</td>\n",
       "      <td>70</td>\n",
       "      <td>141</td>\n",
       "      <td>20,2</td>\n",
       "      <td>122</td>\n",
       "      <td>86</td>\n",
       "      <td>32</td>\n",
       "      <td>39</td>\n",
       "      <td>0,82</td>\n",
       "      <td>No diabetes</td>\n",
       "    </tr>\n",
       "  </tbody>\n",
       "</table>\n",
       "</div>"
      ],
      "text/plain": [
       "   patient_number  cholesterol  glucose  hdl_chol chol_hdl_ratio  age  gender  \\\n",
       "0               1          193       77        49            3,9   19  female   \n",
       "1               2          146       79        41            3,6   19  female   \n",
       "2               3          217       75        54              4   20  female   \n",
       "3               4          226       97        70            3,2   20  female   \n",
       "4               5          164       91        67            2,4   20  female   \n",
       "\n",
       "   height  weight   bmi  systolic_bp  diastolic_bp  waist  hip  \\\n",
       "0      61     119  22,5          118            70     32   38   \n",
       "1      60     135  26,4          108            58     33   40   \n",
       "2      67     187  29,3          110            72     40   45   \n",
       "3      64     114  19,6          122            64     31   39   \n",
       "4      70     141  20,2          122            86     32   39   \n",
       "\n",
       "  waist_hip_ratio     diabetes  \n",
       "0            0,84  No diabetes  \n",
       "1            0,83  No diabetes  \n",
       "2            0,89  No diabetes  \n",
       "3            0,79  No diabetes  \n",
       "4            0,82  No diabetes  "
      ]
     },
     "execution_count": 3,
     "metadata": {},
     "output_type": "execute_result"
    }
   ],
   "source": [
    "diabetes.head()"
   ]
  },
  {
   "cell_type": "code",
   "execution_count": 4,
   "id": "10d90cfe",
   "metadata": {},
   "outputs": [
    {
     "name": "stdout",
     "output_type": "stream",
     "text": [
      "<class 'pandas.core.frame.DataFrame'>\n",
      "RangeIndex: 390 entries, 0 to 389\n",
      "Data columns (total 16 columns):\n",
      " #   Column           Non-Null Count  Dtype \n",
      "---  ------           --------------  ----- \n",
      " 0   patient_number   390 non-null    int64 \n",
      " 1   cholesterol      390 non-null    int64 \n",
      " 2   glucose          390 non-null    int64 \n",
      " 3   hdl_chol         390 non-null    int64 \n",
      " 4   chol_hdl_ratio   390 non-null    object\n",
      " 5   age              390 non-null    int64 \n",
      " 6   gender           390 non-null    object\n",
      " 7   height           390 non-null    int64 \n",
      " 8   weight           390 non-null    int64 \n",
      " 9   bmi              390 non-null    object\n",
      " 10  systolic_bp      390 non-null    int64 \n",
      " 11  diastolic_bp     390 non-null    int64 \n",
      " 12  waist            390 non-null    int64 \n",
      " 13  hip              390 non-null    int64 \n",
      " 14  waist_hip_ratio  390 non-null    object\n",
      " 15  diabetes         390 non-null    object\n",
      "dtypes: int64(11), object(5)\n",
      "memory usage: 48.9+ KB\n"
     ]
    }
   ],
   "source": [
    "diabetes.info()"
   ]
  },
  {
   "cell_type": "code",
   "execution_count": 5,
   "id": "69077a3d",
   "metadata": {},
   "outputs": [
    {
     "data": {
      "text/plain": [
       "(390, 16)"
      ]
     },
     "execution_count": 5,
     "metadata": {},
     "output_type": "execute_result"
    }
   ],
   "source": [
    "diabetes.shape"
   ]
  },
  {
   "cell_type": "code",
   "execution_count": 6,
   "id": "3d778750",
   "metadata": {},
   "outputs": [
    {
     "data": {
      "text/plain": [
       "patient_number     0\n",
       "cholesterol        0\n",
       "glucose            0\n",
       "hdl_chol           0\n",
       "chol_hdl_ratio     0\n",
       "age                0\n",
       "gender             0\n",
       "height             0\n",
       "weight             0\n",
       "bmi                0\n",
       "systolic_bp        0\n",
       "diastolic_bp       0\n",
       "waist              0\n",
       "hip                0\n",
       "waist_hip_ratio    0\n",
       "diabetes           0\n",
       "dtype: int64"
      ]
     },
     "execution_count": 6,
     "metadata": {},
     "output_type": "execute_result"
    }
   ],
   "source": [
    "diabetes.isna().sum()"
   ]
  },
  {
   "cell_type": "code",
   "execution_count": 7,
   "id": "0fed2a7b",
   "metadata": {},
   "outputs": [
    {
     "name": "stdout",
     "output_type": "stream",
     "text": [
      "<class 'pandas.core.frame.DataFrame'>\n",
      "RangeIndex: 390 entries, 0 to 389\n",
      "Data columns (total 16 columns):\n",
      " #   Column           Non-Null Count  Dtype \n",
      "---  ------           --------------  ----- \n",
      " 0   patient_number   390 non-null    int64 \n",
      " 1   cholesterol      390 non-null    int64 \n",
      " 2   glucose          390 non-null    int64 \n",
      " 3   hdl_chol         390 non-null    int64 \n",
      " 4   chol_hdl_ratio   390 non-null    object\n",
      " 5   age              390 non-null    int64 \n",
      " 6   gender           390 non-null    object\n",
      " 7   height           390 non-null    int64 \n",
      " 8   weight           390 non-null    int64 \n",
      " 9   bmi              390 non-null    object\n",
      " 10  systolic_bp      390 non-null    int64 \n",
      " 11  diastolic_bp     390 non-null    int64 \n",
      " 12  waist            390 non-null    int64 \n",
      " 13  hip              390 non-null    int64 \n",
      " 14  waist_hip_ratio  390 non-null    object\n",
      " 15  diabetes         390 non-null    object\n",
      "dtypes: int64(11), object(5)\n",
      "memory usage: 48.9+ KB\n"
     ]
    }
   ],
   "source": [
    "diabetes.info()"
   ]
  },
  {
   "cell_type": "markdown",
   "id": "fe7b0378",
   "metadata": {},
   "source": [
    "<h3>\n",
    "    As there are no missing values nor any arbitrary data in the dataset, there is no need to clean the data\n",
    "</h3>"
   ]
  },
  {
   "cell_type": "markdown",
   "id": "fc4c78b2",
   "metadata": {},
   "source": [
    "<h2>\n",
    "    How is age distributed in the dataset?\n",
    "</h2>"
   ]
  },
  {
   "cell_type": "code",
   "execution_count": 8,
   "id": "3db4c0a1",
   "metadata": {},
   "outputs": [
    {
     "data": {
      "text/plain": [
       "<AxesSubplot:xlabel='age', ylabel='Count'>"
      ]
     },
     "execution_count": 8,
     "metadata": {},
     "output_type": "execute_result"
    },
    {
     "data": {
      "image/png": "[encoded data removed]",
      "text/plain": [
       "<Figure size 432x288 with 1 Axes>"
      ]
     },
     "metadata": {
      "needs_background": "light"
     },
     "output_type": "display_data"
    }
   ],
   "source": [
    "sns.histplot(data=diabetes, x=\"age\")"
   ]
  },
  {
   "cell_type": "markdown",
   "id": "07207c9b",
   "metadata": {},
   "source": [
    "<h3>\n",
    "    We can observe that most of the patients in the sample are in their early 40s. They are closely followed by the people in their late 20s,30s and 60s.\n",
    "</h3>"
   ]
  },
  {
   "cell_type": "markdown",
   "id": "672362f7",
   "metadata": {},
   "source": [
    "<h2>\n",
    "    Are glucose and cholesterol levels related?\n",
    "</h2>"
   ]
  },
  {
   "cell_type": "code",
   "execution_count": 9,
   "id": "2c6d59f2",
   "metadata": {},
   "outputs": [
    {
     "data": {
      "text/plain": [
       "<AxesSubplot:xlabel='glucose', ylabel='cholesterol'>"
      ]
     },
     "execution_count": 9,
     "metadata": {},
     "output_type": "execute_result"
    },
    {
     "data": {
      "image/png": "[encoded data removed]",
      "text/plain": [
       "<Figure size 432x288 with 1 Axes>"
      ]
     },
     "metadata": {
      "needs_background": "light"
     },
     "output_type": "display_data"
    }
   ],
   "source": [
    "sns.scatterplot(data=diabetes, x=\"glucose\", y=\"cholesterol\")"
   ]
  },
  {
   "cell_type": "markdown",
   "id": "280743f4",
   "metadata": {},
   "source": [
    "<h3>\n",
    "    There is no observed correlation between glucose and cholesterol levels\n",
    "</h3>"
   ]
  },
  {
   "cell_type": "code",
   "execution_count": 10,
   "id": "243cdcca",
   "metadata": {},
   "outputs": [
    {
     "data": {
      "text/plain": [
       "<AxesSubplot:xlabel='weight', ylabel='Count'>"
      ]
     },
     "execution_count": 10,
     "metadata": {},
     "output_type": "execute_result"
    },
    {
     "data": {
      "image/png": "[encoded data removed]",
      "text/plain": [
       "<Figure size 432x288 with 1 Axes>"
      ]
     },
     "metadata": {
      "needs_background": "light"
     },
     "output_type": "display_data"
    }
   ],
   "source": [
    "#distribution of weight\n",
    "sns.histplot(data=diabetes, x=\"weight\")"
   ]
  },
  {
   "cell_type": "markdown",
   "id": "c0a1fd72",
   "metadata": {},
   "source": [
    "<h2>\n",
    "    Does higher BMI indicate a higher glucose level?\n",
    "</h12>"
   ]
  },
  {
   "cell_type": "code",
   "execution_count": 11,
   "id": "140dd2a8",
   "metadata": {},
   "outputs": [
    {
     "name": "stdout",
     "output_type": "stream",
     "text": [
      "0      22.5\n",
      "1      26.4\n",
      "2      29.3\n",
      "3      19.6\n",
      "4      20.2\n",
      "       ... \n",
      "385    25.2\n",
      "386    37.5\n",
      "387    21.7\n",
      "388    24.0\n",
      "389    39.7\n",
      "Name: bmi, Length: 390, dtype: float64\n"
     ]
    }
   ],
   "source": [
    "#is there any relation between bmi and glucose\n",
    "#converting bmi column from string to float\n",
    "diabetes['bmi'] = diabetes['bmi'].astype(str).str.replace(',','.')\n",
    "diabetes['bmi'] = diabetes['bmi'].astype(float)\n",
    "print(diabetes['bmi'])"
   ]
  },
  {
   "cell_type": "code",
   "execution_count": 12,
   "id": "5fd610a8",
   "metadata": {},
   "outputs": [
    {
     "data": {
      "text/plain": [
       "<AxesSubplot:xlabel='bmi', ylabel='glucose'>"
      ]
     },
     "execution_count": 12,
     "metadata": {},
     "output_type": "execute_result"
    },
    {
     "data": {
      "image/png": "[encoded data removed]",
      "text/plain": [
       "<Figure size 432x288 with 1 Axes>"
      ]
     },
     "metadata": {
      "needs_background": "light"
     },
     "output_type": "display_data"
    }
   ],
   "source": [
    "sns.scatterplot(data=diabetes, x=\"bmi\", y=\"glucose\")"
   ]
  },
  {
   "cell_type": "markdown",
   "id": "34fb9738",
   "metadata": {},
   "source": [
    "<h3>\n",
    "    Thus, BMI does not give a clear indication of a patient's glucose level.\n",
    "</h3>    "
   ]
  },
  {
   "cell_type": "markdown",
   "id": "7e218a2a",
   "metadata": {},
   "source": [
    "<h2>\n",
    "    Male vs female counts of patients in the sample\n",
    "</h2>"
   ]
  },
  {
   "cell_type": "code",
   "execution_count": 13,
   "id": "fd39012c",
   "metadata": {},
   "outputs": [
    {
     "data": {
      "text/plain": [
       "<AxesSubplot:xlabel='gender', ylabel='count'>"
      ]
     },
     "execution_count": 13,
     "metadata": {},
     "output_type": "execute_result"
    },
    {
     "data": {
      "image/png": "[encoded data removed]",
      "text/plain": [
       "<Figure size 432x288 with 1 Axes>"
      ]
     },
     "metadata": {
      "needs_background": "light"
     },
     "output_type": "display_data"
    }
   ],
   "source": [
    "#distribution of genders\n",
    "sns.countplot(x ='gender', data = diabetes)"
   ]
  },
  {
   "cell_type": "markdown",
   "id": "01685800",
   "metadata": {},
   "source": [
    "<h2>\n",
    "    Distribution of BMI\n",
    "</h2>"
   ]
  },
  {
   "cell_type": "code",
   "execution_count": 14,
   "id": "10a96425",
   "metadata": {},
   "outputs": [
    {
     "data": {
      "text/plain": [
       "<AxesSubplot:xlabel='bmi', ylabel='Count'>"
      ]
     },
     "execution_count": 14,
     "metadata": {},
     "output_type": "execute_result"
    },
    {
     "data": {
      "image/png": "[encoded data removed]",
      "text/plain": [
       "<Figure size 432x288 with 1 Axes>"
      ]
     },
     "metadata": {
      "needs_background": "light"
     },
     "output_type": "display_data"
    }
   ],
   "source": [
    "sns.histplot(data=diabetes, x=\"bmi\")"
   ]
  },
  {
   "cell_type": "markdown",
   "id": "22d295da",
   "metadata": {},
   "source": [
    "<h3>\n",
    "    We can observe that most of the patients have their BMIs in the range of 25-30, which is a normal BMI\n",
    "</h3>"
   ]
  },
  {
   "cell_type": "markdown",
   "id": "24f821ea",
   "metadata": {},
   "source": [
    "<h2>\n",
    "    Does higher BMI indicate a higher cholesterol level?\n",
    "</h2>"
   ]
  },
  {
   "cell_type": "code",
   "execution_count": 15,
   "id": "d24a0ac2",
   "metadata": {},
   "outputs": [
    {
     "data": {
      "text/plain": [
       "<AxesSubplot:xlabel='bmi', ylabel='cholesterol'>"
      ]
     },
     "execution_count": 15,
     "metadata": {},
     "output_type": "execute_result"
    },
    {
     "data": {
      "image/png": "[encoded data removed]",
      "text/plain": [
       "<Figure size 432x288 with 1 Axes>"
      ]
     },
     "metadata": {
      "needs_background": "light"
     },
     "output_type": "display_data"
    }
   ],
   "source": [
    "sns.scatterplot(data=diabetes, x=\"bmi\", y=\"cholesterol\")"
   ]
  },
  {
   "cell_type": "markdown",
   "id": "30f35dce",
   "metadata": {},
   "source": [
    "<h3>\n",
    "    Thus, a higher BMI gives no clear indication of the cholesterol levels of a patient\n",
    "</h3>"
   ]
  },
  {
   "cell_type": "markdown",
   "id": "4c12e4a6",
   "metadata": {},
   "source": [
    "<h2>\n",
    "    Does a higher HDL/LDL level indicate a higher systolic/diastolic ratio?\n",
    "</h2>"
   ]
  },
  {
   "cell_type": "code",
   "execution_count": 16,
   "id": "fcea40f3",
   "metadata": {},
   "outputs": [],
   "source": [
    "#creating a separate column for ratio between systolic and diastolic bp\n",
    "diabetes['sys_dia_ratio'] = diabetes['systolic_bp'] / diabetes['diastolic_bp']"
   ]
  },
  {
   "cell_type": "code",
   "execution_count": 17,
   "id": "d389e3aa",
   "metadata": {},
   "outputs": [
    {
     "data": {
      "text/plain": [
       "0      1.685714\n",
       "1      1.862069\n",
       "2      1.527778\n",
       "3      1.906250\n",
       "4      1.418605\n",
       "         ...   \n",
       "385    1.666667\n",
       "386    1.636364\n",
       "387    2.422222\n",
       "388    2.073171\n",
       "389    1.951220\n",
       "Name: sys_dia_ratio, Length: 390, dtype: float64"
      ]
     },
     "execution_count": 17,
     "metadata": {},
     "output_type": "execute_result"
    }
   ],
   "source": [
    "diabetes['sys_dia_ratio']"
   ]
  },
  {
   "cell_type": "code",
   "execution_count": 18,
   "id": "16ea135e",
   "metadata": {},
   "outputs": [
    {
     "data": {
      "text/plain": [
       "<AxesSubplot:xlabel='sys_dia_ratio', ylabel='chol_hdl_ratio'>"
      ]
     },
     "execution_count": 18,
     "metadata": {},
     "output_type": "execute_result"
    },
    {
     "data": {
      "image/png": "[encoded data removed]",
      "text/plain": [
       "<Figure size 432x288 with 1 Axes>"
      ]
     },
     "metadata": {
      "needs_background": "light"
     },
     "output_type": "display_data"
    }
   ],
   "source": [
    "#converting chol_hdl_ratio column from string to float\n",
    "diabetes['chol_hdl_ratio'] = diabetes['chol_hdl_ratio'].astype(str).str.replace(',','.')\n",
    "diabetes['chol_hdl_ratio'] = diabetes['chol_hdl_ratio'].astype(float)\n",
    "sns.scatterplot(data=diabetes, x=\"sys_dia_ratio\", y=\"chol_hdl_ratio\")"
   ]
  },
  {
   "cell_type": "markdown",
   "id": "8f5aad6b",
   "metadata": {},
   "source": [
    "<h3>\n",
    "    Thus there is no clear indication that there is a relation between cholesterol and blood pressure ratios.\n",
    "</h3>"
   ]
  },
  {
   "cell_type": "code",
   "execution_count": 19,
   "id": "574e9385",
   "metadata": {},
   "outputs": [],
   "source": [
    "#converting the diabetes column from a string to a boolean 0/1 column\n",
    "diabetes['diabetes']=diabetes['diabetes'].apply(lambda x: 0 if x == \"No diabetes\" else 1)"
   ]
  },
  {
   "cell_type": "code",
   "execution_count": 20,
   "id": "b6ef79db",
   "metadata": {},
   "outputs": [
    {
     "data": {
      "text/html": [
       "<div>\n",
       "<style scoped>\n",
       "    .dataframe tbody tr th:only-of-type {\n",
       "        vertical-align: middle;\n",
       "    }\n",
       "\n",
       "    .dataframe tbody tr th {\n",
       "        vertical-align: top;\n",
       "    }\n",
       "\n",
       "    .dataframe thead th {\n",
       "        text-align: right;\n",
       "    }\n",
       "</style>\n",
       "<table border=\"1\" class=\"dataframe\">\n",
       "  <thead>\n",
       "    <tr style=\"text-align: right;\">\n",
       "      <th></th>\n",
       "      <th>patient_number</th>\n",
       "      <th>cholesterol</th>\n",
       "      <th>glucose</th>\n",
       "      <th>hdl_chol</th>\n",
       "      <th>chol_hdl_ratio</th>\n",
       "      <th>age</th>\n",
       "      <th>gender</th>\n",
       "      <th>height</th>\n",
       "      <th>weight</th>\n",
       "      <th>bmi</th>\n",
       "      <th>systolic_bp</th>\n",
       "      <th>diastolic_bp</th>\n",
       "      <th>waist</th>\n",
       "      <th>hip</th>\n",
       "      <th>waist_hip_ratio</th>\n",
       "      <th>diabetes</th>\n",
       "      <th>sys_dia_ratio</th>\n",
       "    </tr>\n",
       "  </thead>\n",
       "  <tbody>\n",
       "    <tr>\n",
       "      <th>0</th>\n",
       "      <td>1</td>\n",
       "      <td>193</td>\n",
       "      <td>77</td>\n",
       "      <td>49</td>\n",
       "      <td>3.9</td>\n",
       "      <td>19</td>\n",
       "      <td>female</td>\n",
       "      <td>61</td>\n",
       "      <td>119</td>\n",
       "      <td>22.5</td>\n",
       "      <td>118</td>\n",
       "      <td>70</td>\n",
       "      <td>32</td>\n",
       "      <td>38</td>\n",
       "      <td>0,84</td>\n",
       "      <td>0</td>\n",
       "      <td>1.685714</td>\n",
       "    </tr>\n",
       "    <tr>\n",
       "      <th>1</th>\n",
       "      <td>2</td>\n",
       "      <td>146</td>\n",
       "      <td>79</td>\n",
       "      <td>41</td>\n",
       "      <td>3.6</td>\n",
       "      <td>19</td>\n",
       "      <td>female</td>\n",
       "      <td>60</td>\n",
       "      <td>135</td>\n",
       "      <td>26.4</td>\n",
       "      <td>108</td>\n",
       "      <td>58</td>\n",
       "      <td>33</td>\n",
       "      <td>40</td>\n",
       "      <td>0,83</td>\n",
       "      <td>0</td>\n",
       "      <td>1.862069</td>\n",
       "    </tr>\n",
       "    <tr>\n",
       "      <th>2</th>\n",
       "      <td>3</td>\n",
       "      <td>217</td>\n",
       "      <td>75</td>\n",
       "      <td>54</td>\n",
       "      <td>4.0</td>\n",
       "      <td>20</td>\n",
       "      <td>female</td>\n",
       "      <td>67</td>\n",
       "      <td>187</td>\n",
       "      <td>29.3</td>\n",
       "      <td>110</td>\n",
       "      <td>72</td>\n",
       "      <td>40</td>\n",
       "      <td>45</td>\n",
       "      <td>0,89</td>\n",
       "      <td>0</td>\n",
       "      <td>1.527778</td>\n",
       "    </tr>\n",
       "    <tr>\n",
       "      <th>3</th>\n",
       "      <td>4</td>\n",
       "      <td>226</td>\n",
       "      <td>97</td>\n",
       "      <td>70</td>\n",
       "      <td>3.2</td>\n",
       "      <td>20</td>\n",
       "      <td>female</td>\n",
       "      <td>64</td>\n",
       "      <td>114</td>\n",
       "      <td>19.6</td>\n",
       "      <td>122</td>\n",
       "      <td>64</td>\n",
       "      <td>31</td>\n",
       "      <td>39</td>\n",
       "      <td>0,79</td>\n",
       "      <td>0</td>\n",
       "      <td>1.906250</td>\n",
       "    </tr>\n",
       "    <tr>\n",
       "      <th>4</th>\n",
       "      <td>5</td>\n",
       "      <td>164</td>\n",
       "      <td>91</td>\n",
       "      <td>67</td>\n",
       "      <td>2.4</td>\n",
       "      <td>20</td>\n",
       "      <td>female</td>\n",
       "      <td>70</td>\n",
       "      <td>141</td>\n",
       "      <td>20.2</td>\n",
       "      <td>122</td>\n",
       "      <td>86</td>\n",
       "      <td>32</td>\n",
       "      <td>39</td>\n",
       "      <td>0,82</td>\n",
       "      <td>0</td>\n",
       "      <td>1.418605</td>\n",
       "    </tr>\n",
       "  </tbody>\n",
       "</table>\n",
       "</div>"
      ],
      "text/plain": [
       "   patient_number  cholesterol  glucose  hdl_chol  chol_hdl_ratio  age  \\\n",
       "0               1          193       77        49             3.9   19   \n",
       "1               2          146       79        41             3.6   19   \n",
       "2               3          217       75        54             4.0   20   \n",
       "3               4          226       97        70             3.2   20   \n",
       "4               5          164       91        67             2.4   20   \n",
       "\n",
       "   gender  height  weight   bmi  systolic_bp  diastolic_bp  waist  hip  \\\n",
       "0  female      61     119  22.5          118            70     32   38   \n",
       "1  female      60     135  26.4          108            58     33   40   \n",
       "2  female      67     187  29.3          110            72     40   45   \n",
       "3  female      64     114  19.6          122            64     31   39   \n",
       "4  female      70     141  20.2          122            86     32   39   \n",
       "\n",
       "  waist_hip_ratio  diabetes  sys_dia_ratio  \n",
       "0            0,84         0       1.685714  \n",
       "1            0,83         0       1.862069  \n",
       "2            0,89         0       1.527778  \n",
       "3            0,79         0       1.906250  \n",
       "4            0,82         0       1.418605  "
      ]
     },
     "execution_count": 20,
     "metadata": {},
     "output_type": "execute_result"
    }
   ],
   "source": [
    "diabetes.head()"
   ]
  },
  {
   "cell_type": "code",
   "execution_count": 21,
   "id": "11c2f9a2",
   "metadata": {},
   "outputs": [
    {
     "data": {
      "text/plain": [
       "0    330\n",
       "1     60\n",
       "Name: diabetes, dtype: int64"
      ]
     },
     "execution_count": 21,
     "metadata": {},
     "output_type": "execute_result"
    }
   ],
   "source": [
    "diabetes['diabetes'].value_counts()"
   ]
  },
  {
   "cell_type": "markdown",
   "id": "83f4c955",
   "metadata": {},
   "source": [
    "<h2>\n",
    "    Preparing the dependant variable 'diabetes' for building the model\n",
    "</h2>"
   ]
  },
  {
   "cell_type": "code",
   "execution_count": 22,
   "id": "98b6621e",
   "metadata": {},
   "outputs": [],
   "source": [
    "#converting the gender column from a string to a boolean 0/1 column\n",
    "diabetes['gender']=diabetes['gender'].apply(lambda x: 0 if x == \"male\" else 1)"
   ]
  },
  {
   "cell_type": "code",
   "execution_count": 23,
   "id": "756b541f",
   "metadata": {},
   "outputs": [],
   "source": [
    "#converting chol_hdl_ratio column from string to float\n",
    "diabetes['waist_hip_ratio'] = diabetes['waist_hip_ratio'].astype(str).str.replace(',','.')\n",
    "diabetes['waist_hip_ratio'] = diabetes['waist_hip_ratio'].astype(float)"
   ]
  },
  {
   "cell_type": "code",
   "execution_count": 24,
   "id": "979e25c0",
   "metadata": {},
   "outputs": [
    {
     "data": {
      "text/html": [
       "<div>\n",
       "<style scoped>\n",
       "    .dataframe tbody tr th:only-of-type {\n",
       "        vertical-align: middle;\n",
       "    }\n",
       "\n",
       "    .dataframe tbody tr th {\n",
       "        vertical-align: top;\n",
       "    }\n",
       "\n",
       "    .dataframe thead th {\n",
       "        text-align: right;\n",
       "    }\n",
       "</style>\n",
       "<table border=\"1\" class=\"dataframe\">\n",
       "  <thead>\n",
       "    <tr style=\"text-align: right;\">\n",
       "      <th></th>\n",
       "      <th>patient_number</th>\n",
       "      <th>cholesterol</th>\n",
       "      <th>glucose</th>\n",
       "      <th>hdl_chol</th>\n",
       "      <th>chol_hdl_ratio</th>\n",
       "      <th>age</th>\n",
       "      <th>gender</th>\n",
       "      <th>height</th>\n",
       "      <th>weight</th>\n",
       "      <th>bmi</th>\n",
       "      <th>systolic_bp</th>\n",
       "      <th>diastolic_bp</th>\n",
       "      <th>waist</th>\n",
       "      <th>hip</th>\n",
       "      <th>waist_hip_ratio</th>\n",
       "      <th>diabetes</th>\n",
       "      <th>sys_dia_ratio</th>\n",
       "    </tr>\n",
       "  </thead>\n",
       "  <tbody>\n",
       "    <tr>\n",
       "      <th>0</th>\n",
       "      <td>1</td>\n",
       "      <td>193</td>\n",
       "      <td>77</td>\n",
       "      <td>49</td>\n",
       "      <td>3.9</td>\n",
       "      <td>19</td>\n",
       "      <td>1</td>\n",
       "      <td>61</td>\n",
       "      <td>119</td>\n",
       "      <td>22.5</td>\n",
       "      <td>118</td>\n",
       "      <td>70</td>\n",
       "      <td>32</td>\n",
       "      <td>38</td>\n",
       "      <td>0.84</td>\n",
       "      <td>0</td>\n",
       "      <td>1.685714</td>\n",
       "    </tr>\n",
       "    <tr>\n",
       "      <th>1</th>\n",
       "      <td>2</td>\n",
       "      <td>146</td>\n",
       "      <td>79</td>\n",
       "      <td>41</td>\n",
       "      <td>3.6</td>\n",
       "      <td>19</td>\n",
       "      <td>1</td>\n",
       "      <td>60</td>\n",
       "      <td>135</td>\n",
       "      <td>26.4</td>\n",
       "      <td>108</td>\n",
       "      <td>58</td>\n",
       "      <td>33</td>\n",
       "      <td>40</td>\n",
       "      <td>0.83</td>\n",
       "      <td>0</td>\n",
       "      <td>1.862069</td>\n",
       "    </tr>\n",
       "    <tr>\n",
       "      <th>2</th>\n",
       "      <td>3</td>\n",
       "      <td>217</td>\n",
       "      <td>75</td>\n",
       "      <td>54</td>\n",
       "      <td>4.0</td>\n",
       "      <td>20</td>\n",
       "      <td>1</td>\n",
       "      <td>67</td>\n",
       "      <td>187</td>\n",
       "      <td>29.3</td>\n",
       "      <td>110</td>\n",
       "      <td>72</td>\n",
       "      <td>40</td>\n",
       "      <td>45</td>\n",
       "      <td>0.89</td>\n",
       "      <td>0</td>\n",
       "      <td>1.527778</td>\n",
       "    </tr>\n",
       "    <tr>\n",
       "      <th>3</th>\n",
       "      <td>4</td>\n",
       "      <td>226</td>\n",
       "      <td>97</td>\n",
       "      <td>70</td>\n",
       "      <td>3.2</td>\n",
       "      <td>20</td>\n",
       "      <td>1</td>\n",
       "      <td>64</td>\n",
       "      <td>114</td>\n",
       "      <td>19.6</td>\n",
       "      <td>122</td>\n",
       "      <td>64</td>\n",
       "      <td>31</td>\n",
       "      <td>39</td>\n",
       "      <td>0.79</td>\n",
       "      <td>0</td>\n",
       "      <td>1.906250</td>\n",
       "    </tr>\n",
       "    <tr>\n",
       "      <th>4</th>\n",
       "      <td>5</td>\n",
       "      <td>164</td>\n",
       "      <td>91</td>\n",
       "      <td>67</td>\n",
       "      <td>2.4</td>\n",
       "      <td>20</td>\n",
       "      <td>1</td>\n",
       "      <td>70</td>\n",
       "      <td>141</td>\n",
       "      <td>20.2</td>\n",
       "      <td>122</td>\n",
       "      <td>86</td>\n",
       "      <td>32</td>\n",
       "      <td>39</td>\n",
       "      <td>0.82</td>\n",
       "      <td>0</td>\n",
       "      <td>1.418605</td>\n",
       "    </tr>\n",
       "  </tbody>\n",
       "</table>\n",
       "</div>"
      ],
      "text/plain": [
       "   patient_number  cholesterol  glucose  hdl_chol  chol_hdl_ratio  age  \\\n",
       "0               1          193       77        49             3.9   19   \n",
       "1               2          146       79        41             3.6   19   \n",
       "2               3          217       75        54             4.0   20   \n",
       "3               4          226       97        70             3.2   20   \n",
       "4               5          164       91        67             2.4   20   \n",
       "\n",
       "   gender  height  weight   bmi  systolic_bp  diastolic_bp  waist  hip  \\\n",
       "0       1      61     119  22.5          118            70     32   38   \n",
       "1       1      60     135  26.4          108            58     33   40   \n",
       "2       1      67     187  29.3          110            72     40   45   \n",
       "3       1      64     114  19.6          122            64     31   39   \n",
       "4       1      70     141  20.2          122            86     32   39   \n",
       "\n",
       "   waist_hip_ratio  diabetes  sys_dia_ratio  \n",
       "0             0.84         0       1.685714  \n",
       "1             0.83         0       1.862069  \n",
       "2             0.89         0       1.527778  \n",
       "3             0.79         0       1.906250  \n",
       "4             0.82         0       1.418605  "
      ]
     },
     "execution_count": 24,
     "metadata": {},
     "output_type": "execute_result"
    }
   ],
   "source": [
    "diabetes.head()"
   ]
  },
  {
   "cell_type": "markdown",
   "id": "b47c7ca1",
   "metadata": {},
   "source": [
    "<h1>\n",
    "    Building a model to predict whether a patient is diabetic or not\n",
    "</h1>"
   ]
  },
  {
   "cell_type": "code",
   "execution_count": 25,
   "id": "e97e4efd",
   "metadata": {},
   "outputs": [
    {
     "name": "stdout",
     "output_type": "stream",
     "text": [
      "The score of the model is  84.1025641025641 %\n",
      "The confusion matrix is as follows: \n",
      "\n",
      "[[321   9]\n",
      " [ 53   7]]\n",
      "The classification report is as follows: \n",
      "\n",
      "              precision    recall  f1-score   support\n",
      "\n",
      "           0       0.86      0.97      0.91       330\n",
      "           1       0.44      0.12      0.18        60\n",
      "\n",
      "    accuracy                           0.84       390\n",
      "   macro avg       0.65      0.54      0.55       390\n",
      "weighted avg       0.79      0.84      0.80       390\n",
      "\n"
     ]
    }
   ],
   "source": [
    "#model 1\n",
    "model = LogisticRegression(solver='lbfgs', random_state=0)\n",
    "x = diabetes[['chol_hdl_ratio','age','gender','bmi','sys_dia_ratio','waist_hip_ratio']]\n",
    "y = diabetes['diabetes']\n",
    "model.fit(x, y)\n",
    "print(\"The score of the model is \", model.score(x, y) * 100,\"%\")\n",
    "print(\"The confusion matrix is as follows: \\n\")\n",
    "print(confusion_matrix(y, model.predict(x)))\n",
    "print(\"The classification report is as follows: \\n\")\n",
    "print(classification_report(y, model.predict(x)))"
   ]
  },
  {
   "cell_type": "code",
   "execution_count": 26,
   "id": "5e2aac39",
   "metadata": {},
   "outputs": [
    {
     "name": "stdout",
     "output_type": "stream",
     "text": [
      "The accuracy of the model is  93.07692307692308 %\n",
      "The confusion matrix is as follows: \n",
      "\n",
      "[[323   7]\n",
      " [ 20  40]]\n",
      "The classification report is as follows: \n",
      "\n",
      "              precision    recall  f1-score   support\n",
      "\n",
      "           0       0.94      0.98      0.96       330\n",
      "           1       0.85      0.67      0.75        60\n",
      "\n",
      "    accuracy                           0.93       390\n",
      "   macro avg       0.90      0.82      0.85       390\n",
      "weighted avg       0.93      0.93      0.93       390\n",
      "\n"
     ]
    }
   ],
   "source": [
    "#model 2\n",
    "model = LogisticRegression(solver='lbfgs', random_state=0)\n",
    "x = diabetes[['glucose','age','gender','bmi']]\n",
    "y = diabetes['diabetes']\n",
    "model.fit(x, y)\n",
    "print(\"The accuracy of the model is \", model.score(x, y) * 100, \"%\")\n",
    "print(\"The confusion matrix is as follows: \\n\")\n",
    "print(confusion_matrix(y, model.predict(x)))\n",
    "print(\"The classification report is as follows: \\n\")\n",
    "print(classification_report(y, model.predict(x)))"
   ]
  },
  {
   "cell_type": "code",
   "execution_count": 27,
   "id": "667e86a2",
   "metadata": {},
   "outputs": [
    {
     "name": "stdout",
     "output_type": "stream",
     "text": [
      "The accuracy of the model is  92.82051282051282 %\n",
      "The confusion matrix is as follows: \n",
      "\n",
      "[[323   7]\n",
      " [ 21  39]]\n",
      "The classification report is as follows: \n",
      "\n",
      "              precision    recall  f1-score   support\n",
      "\n",
      "           0       0.94      0.98      0.96       330\n",
      "           1       0.85      0.65      0.74        60\n",
      "\n",
      "    accuracy                           0.93       390\n",
      "   macro avg       0.89      0.81      0.85       390\n",
      "weighted avg       0.92      0.93      0.92       390\n",
      "\n"
     ]
    }
   ],
   "source": [
    "#model 3\n",
    "model = LogisticRegression(solver='lbfgs', random_state=0)\n",
    "x = diabetes[['glucose','age','gender','weight']]\n",
    "y = diabetes['diabetes']\n",
    "model.fit(x, y)\n",
    "print(\"The accuracy of the model is \", model.score(x, y) * 100, \"%\")\n",
    "print(\"The confusion matrix is as follows: \\n\")\n",
    "print(confusion_matrix(y, model.predict(x)))\n",
    "print(\"The classification report is as follows: \\n\")\n",
    "print(classification_report(y, model.predict(x)))"
   ]
  },
  {
   "cell_type": "code",
   "execution_count": 28,
   "id": "f4c181fe",
   "metadata": {},
   "outputs": [
    {
     "name": "stdout",
     "output_type": "stream",
     "text": [
      "The accuracy of the model is  92.56410256410257 %\n",
      "The confusion matrix is as follows: \n",
      "\n",
      "[[323   7]\n",
      " [ 22  38]]\n",
      "The classification report is as follows: \n",
      "\n",
      "              precision    recall  f1-score   support\n",
      "\n",
      "           0       0.94      0.98      0.96       330\n",
      "           1       0.84      0.63      0.72        60\n",
      "\n",
      "    accuracy                           0.93       390\n",
      "   macro avg       0.89      0.81      0.84       390\n",
      "weighted avg       0.92      0.93      0.92       390\n",
      "\n"
     ]
    }
   ],
   "source": [
    "#model 4\n",
    "model = LogisticRegression(solver='lbfgs', random_state=0)\n",
    "x = diabetes[['cholesterol','glucose','age','gender','weight']]\n",
    "y = diabetes['diabetes']\n",
    "model.fit(x, y)\n",
    "print(\"The accuracy of the model is \", model.score(x, y) * 100, \"%\")\n",
    "print(\"The confusion matrix is as follows: \\n\")\n",
    "print(confusion_matrix(y, model.predict(x)))\n",
    "print(\"The classification report is as follows: \\n\")\n",
    "print(classification_report(y, model.predict(x)))"
   ]
  },
  {
   "cell_type": "code",
   "execution_count": 31,
   "id": "302b2844",
   "metadata": {},
   "outputs": [
    {
     "name": "stdout",
     "output_type": "stream",
     "text": [
      "The accuracy of the model is  92.82051282051282 %\n",
      "The confusion matrix is as follows: \n",
      "\n",
      "[[323   7]\n",
      " [ 21  39]]\n",
      "The classification report is as follows: \n",
      "\n",
      "              precision    recall  f1-score   support\n",
      "\n",
      "           0       0.94      0.98      0.96       330\n",
      "           1       0.85      0.65      0.74        60\n",
      "\n",
      "    accuracy                           0.93       390\n",
      "   macro avg       0.89      0.81      0.85       390\n",
      "weighted avg       0.92      0.93      0.92       390\n",
      "\n"
     ]
    }
   ],
   "source": [
    "#model 5\n",
    "model = LogisticRegression(solver='lbfgs', random_state=0)\n",
    "x = diabetes[['sys_dia_ratio','glucose','age','gender','weight']]\n",
    "y = diabetes['diabetes']\n",
    "model.fit(x, y)\n",
    "print(\"The accuracy of the model is \", model.score(x, y) * 100, \"%\")\n",
    "print(\"The confusion matrix is as follows: \\n\")\n",
    "print(confusion_matrix(y, model.predict(x)))\n",
    "print(\"The classification report is as follows: \\n\")\n",
    "print(classification_report(y, model.predict(x)))"
   ]
  },
  {
   "cell_type": "markdown",
   "id": "48a310de",
   "metadata": {},
   "source": [
    "<h3>\n",
    "    Model number 2 gives an accuracy of 93%\n",
    "</h3>"
   ]
  },
  {
   "cell_type": "code",
   "execution_count": null,
   "id": "c2156211",
   "metadata": {},
   "outputs": [],
   "source": []
  }
 ],
 "metadata": {
  "kernelspec": {
   "display_name": "Python 3",
   "language": "python",
   "name": "python3"
  },
  "language_info": {
   "codemirror_mode": {
    "name": "ipython",
    "version": 3
   },
   "file_extension": ".py",
   "mimetype": "text/x-python",
   "name": "python",
   "nbconvert_exporter": "python",
   "pygments_lexer": "ipython3",
   "version": "3.8.8"
  }
 },
 "nbformat": 4,
 "nbformat_minor": 5
}
